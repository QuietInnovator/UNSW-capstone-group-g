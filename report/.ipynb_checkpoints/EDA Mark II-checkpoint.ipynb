{
 "cells": [
  {
   "cell_type": "markdown",
   "metadata": {},
   "source": [
    "## Second Notebook Dealing with Intraday Demand"
   ]
  },
  {
   "cell_type": "code",
   "execution_count": 1,
   "metadata": {},
   "outputs": [
    {
     "name": "stderr",
     "output_type": "stream",
     "text": [
      "Duplicate key in file '/Users/joshuaevans/.matplotlib/matplotlibrc' line #2.\n"
     ]
    }
   ],
   "source": [
    "import pandas as pd\n",
    "import seaborn as sns\n",
    "import matplotlib.pyplot as plt\n",
    "from sklearn.model_selection import train_test_split\n",
    "from sklearn.linear_model import LinearRegression  \n",
    "from sklearn.metrics import mean_squared_error, r2_score\n",
    "import numpy as np\n",
    "from sklearn.ensemble import RandomForestRegressor\n",
    "from sklearn.metrics import mean_squared_error, r2_score\n",
    "from sklearn.neural_network import MLPRegressor\n",
    "from sklearn.preprocessing import StandardScaler\n",
    "from sklearn.pipeline import Pipeline\n",
    "from sklearn.model_selection import GridSearchCV"
   ]
  },
  {
   "cell_type": "code",
   "execution_count": 2,
   "metadata": {},
   "outputs": [],
   "source": [
    "forecastdemand_vic = pd.read_csv(\"../data/Australia/a/forecastdemand_vic.csv\")\n",
    "forecastdemand_sa = pd.read_csv(\"../data/Australia/b/forecastdemand_sa.csv\")\n",
    "forecastdemand_qld = pd.read_csv(\"../data/Australia/c/forecastdemand_qld.csv\")\n",
    "temperature_qld = pd.read_csv(\"../data/Australia/d/temprature_qld.csv\")  # There's a typo in 'temperature' in the file path\n",
    "temperature_sa = pd.read_csv(\"../data/Australia/d/temprature_sa.csv\")  # Same typo as above\n",
    "temperature_vic = pd.read_csv(\"../data/Australia/d/temprature_vic.csv\")  # Same typo as above\n",
    "totaldemand_qld = pd.read_csv(\"../data/Australia/d/totaldemand_qld.csv\")\n",
    "totaldemand_sa = pd.read_csv(\"../data/Australia/d/totaldemand_sa.csv\")\n",
    "totaldemand_vic = pd.read_csv(\"../data/Australia/d/totaldemand_vic.csv\")"
   ]
  },
  {
   "cell_type": "code",
   "execution_count": 4,
   "metadata": {},
   "outputs": [
    {
     "name": "stdout",
     "output_type": "stream",
     "text": [
      "   PREDISPATCHSEQNO REGIONID  PERIODID  FORECASTDEMAND          LASTCHANGED  \\\n",
      "0        2016123018     QLD1        71         6425.36  2016-12-30 12:31:25   \n",
      "1        2016123018     QLD1        72         6193.34  2016-12-30 12:31:25   \n",
      "2        2016123018     QLD1        73         6016.45  2016-12-30 12:31:25   \n",
      "3        2016123018     QLD1        74         5859.23  2016-12-30 12:31:25   \n",
      "4        2016123018     QLD1        75         5767.15  2016-12-30 12:31:25   \n",
      "\n",
      "             DATETIME  \n",
      "0 2017-01-01 00:00:00  \n",
      "1 2017-01-01 00:30:00  \n",
      "2 2017-01-01 01:00:00  \n",
      "3 2017-01-01 01:30:00  \n",
      "4 2017-01-01 02:00:00  \n",
      "   PREDISPATCHSEQNO REGIONID  PERIODID  FORECASTDEMAND          LASTCHANGED  \\\n",
      "0        2016123018     VIC1        71         4160.74  2016-12-30 12:31:25   \n",
      "1        2016123018     VIC1        72         3999.64  2016-12-30 12:31:25   \n",
      "2        2016123018     VIC1        73         3836.30  2016-12-30 12:31:25   \n",
      "3        2016123018     VIC1        74         3681.87  2016-12-30 12:31:25   \n",
      "4        2016123018     VIC1        75         3457.38  2016-12-30 12:31:25   \n",
      "\n",
      "             DATETIME  \n",
      "0 2017-01-01 00:00:00  \n",
      "1 2017-01-01 00:30:00  \n",
      "2 2017-01-01 01:00:00  \n",
      "3 2017-01-01 01:30:00  \n",
      "4 2017-01-01 02:00:00  \n",
      "             DATETIME  TOTALDEMAND REGIONID\n",
      "0 2010-01-01 00:30:00      1385.23      SA1\n",
      "1 2010-01-01 01:00:00      1338.53      SA1\n",
      "2 2010-01-01 01:30:00      1260.39      SA1\n",
      "3 2010-01-01 02:00:00      1189.31      SA1\n",
      "4 2010-01-01 02:30:00      1141.12      SA1\n",
      "             DATETIME  TOTALDEMAND REGIONID\n",
      "0 2010-01-01 00:00:00      5561.21     QLD1\n",
      "1 2010-01-01 00:30:00      5422.25     QLD1\n",
      "2 2010-01-01 01:00:00      5315.98     QLD1\n",
      "3 2010-01-01 01:30:00      5186.70     QLD1\n",
      "4 2010-01-01 02:00:00      5050.83     QLD1\n",
      "                   LOCATION            DATETIME  TEMPERATURE\n",
      "0  Melbourne (Olympic Park) 2013-05-31 15:00:00         18.2\n",
      "1  Melbourne (Olympic Park) 2013-05-31 15:30:00         18.3\n",
      "2  Melbourne (Olympic Park) 2013-05-31 16:00:00         18.3\n",
      "3  Melbourne (Olympic Park) 2013-05-31 16:30:00         18.3\n",
      "4  Melbourne (Olympic Park) 2013-05-31 17:00:00         18.2\n",
      "   Unnamed: 0              LOCATION            DATETIME  TEMPERATURE\n",
      "0           0  Adelaide (Kent Town) 2010-01-01 00:00:00         23.6\n",
      "1           1  Adelaide (Kent Town) 2010-01-01 00:30:00         23.7\n",
      "2           2  Adelaide (Kent Town) 2010-01-01 01:00:00         23.5\n",
      "3           3  Adelaide (Kent Town) 2010-01-01 01:30:00         22.6\n",
      "4           4  Adelaide (Kent Town) 2010-01-01 02:00:00         22.0\n",
      "                       LOCATION            DATETIME  TEMPERATURE\n",
      "0  Brisbane Archerfield Airport 2010-01-01 00:00:00         23.6\n",
      "1  Brisbane Archerfield Airport 2010-01-01 00:30:00         23.7\n",
      "2  Brisbane Archerfield Airport 2010-01-01 01:00:00         23.5\n",
      "3  Brisbane Archerfield Airport 2010-01-01 01:30:00         22.6\n",
      "4  Brisbane Archerfield Airport 2010-01-01 02:00:00         22.0\n",
      "             DATETIME  TOTALDEMAND REGIONID\n",
      "0 2010-01-01 00:00:00      5426.12     VIC1\n",
      "1 2010-01-01 00:30:00      5111.02     VIC1\n",
      "2 2010-01-01 01:00:00      4960.03     VIC1\n",
      "3 2010-01-01 01:30:00      5283.40     VIC1\n",
      "4 2010-01-01 02:00:00      5046.15     VIC1\n"
     ]
    }
   ],
   "source": [
    "dataframes = [forecastdemand_qld, forecastdemand_vic, totaldemand_sa, totaldemand_qld, temperature_vic, temperature_sa, temperature_qld, totaldemand_vic]\n",
    "\n",
    "for df in dataframes:\n",
    "    df['DATETIME'] = pd.to_datetime(df['DATETIME'])\n",
    "\n",
    "for df in dataframes:\n",
    "    print(df.head())"
   ]
  },
  {
   "cell_type": "code",
   "execution_count": 5,
   "metadata": {},
   "outputs": [
    {
     "name": "stdout",
     "output_type": "stream",
     "text": [
      "   PREDISPATCHSEQNO REGIONID_x  PERIODID  FORECASTDEMAND          LASTCHANGED  \\\n",
      "0        2016123018       QLD1        71         6425.36  2016-12-30 12:31:25   \n",
      "1        2016123019       QLD1        70         6425.42  2016-12-30 13:01:33   \n",
      "2        2016123020       QLD1        69         6425.42  2016-12-30 13:31:24   \n",
      "3        2016123021       QLD1        68         6427.40  2016-12-30 14:01:21   \n",
      "4        2016123022       QLD1        67         6426.99  2016-12-30 14:31:22   \n",
      "5        2016123023       QLD1        66         6426.63  2016-12-30 15:01:26   \n",
      "6        2016123024       QLD1        65         6426.63  2016-12-30 15:31:28   \n",
      "7        2016123025       QLD1        64         6425.73  2016-12-30 16:01:13   \n",
      "8        2016123026       QLD1        63         6426.89  2016-12-30 16:31:13   \n",
      "9        2016123027       QLD1        62         6426.80  2016-12-30 17:01:13   \n",
      "\n",
      "    DATETIME                      LOCATION  TEMPERATURE  TOTALDEMAND  \\\n",
      "0 2017-01-01  Brisbane Archerfield Airport         26.5      6728.99   \n",
      "1 2017-01-01  Brisbane Archerfield Airport         26.5      6728.99   \n",
      "2 2017-01-01  Brisbane Archerfield Airport         26.5      6728.99   \n",
      "3 2017-01-01  Brisbane Archerfield Airport         26.5      6728.99   \n",
      "4 2017-01-01  Brisbane Archerfield Airport         26.5      6728.99   \n",
      "5 2017-01-01  Brisbane Archerfield Airport         26.5      6728.99   \n",
      "6 2017-01-01  Brisbane Archerfield Airport         26.5      6728.99   \n",
      "7 2017-01-01  Brisbane Archerfield Airport         26.5      6728.99   \n",
      "8 2017-01-01  Brisbane Archerfield Airport         26.5      6728.99   \n",
      "9 2017-01-01  Brisbane Archerfield Airport         26.5      6728.99   \n",
      "\n",
      "  REGIONID_y  forecast_error  forecast_error_ratio  \n",
      "0       QLD1         -303.63             -0.047255  \n",
      "1       QLD1         -303.57             -0.047245  \n",
      "2       QLD1         -303.57             -0.047245  \n",
      "3       QLD1         -301.59             -0.046923  \n",
      "4       QLD1         -302.00             -0.046989  \n",
      "5       QLD1         -302.36             -0.047048  \n",
      "6       QLD1         -302.36             -0.047048  \n",
      "7       QLD1         -303.26             -0.047195  \n",
      "8       QLD1         -302.10             -0.047006  \n",
      "9       QLD1         -302.19             -0.047020  \n"
     ]
    }
   ],
   "source": [
    "forecastdemand_qld['DATETIME'] = pd.to_datetime(forecastdemand_qld['DATETIME'])\n",
    "temperature_qld['DATETIME'] = pd.to_datetime(temperature_qld['DATETIME'])\n",
    "totaldemand_qld['DATETIME'] = pd.to_datetime(totaldemand_qld['DATETIME'])\n",
    "\n",
    "merged_df_1 = pd.merge(forecastdemand_qld, temperature_qld, on='DATETIME', how='inner')\n",
    "df_QLD = pd.merge(merged_df_1, totaldemand_qld, on='DATETIME', how='inner')\n",
    "\n",
    "\n",
    "df_QLD['forecast_error'] = df_QLD['FORECASTDEMAND'] - df_QLD['TOTALDEMAND']\n",
    "df_QLD['forecast_error_ratio'] = df_QLD['forecast_error'] / df_QLD['FORECASTDEMAND']\n",
    "\n",
    "print(df_QLD.head(10))"
   ]
  },
  {
   "cell_type": "code",
   "execution_count": null,
   "metadata": {},
   "outputs": [],
   "source": [
    "from functools import reduce\n",
    "\n",
    "# Assuming dataframes is your list of DataFrames to be merged\n",
    "dataframes = [forecastdemand_qld, forecastdemand_vic, totaldemand_sa, totaldemand_qld, temperature_vic, temperature_sa, temperature_qld, totaldemand_vic]\n",
    "\n",
    "# Merge all DataFrames on 'DATETIME' using an inner join\n",
    "df_merged = reduce(lambda left, right: pd.merge(left, right, on='DATETIME', how='inner'), dataframes)\n",
    "\n",
    "# Display the first few rows of the merged DataFrame to inspect\n",
    "print(df_merged.head())\n",
    "\n",
    "# Further analysis or cleaning here\n"
   ]
  }
 ],
 "metadata": {
  "kernelspec": {
   "display_name": "Python 3",
   "language": "python",
   "name": "python3"
  },
  "language_info": {
   "codemirror_mode": {
    "name": "ipython",
    "version": 3
   },
   "file_extension": ".py",
   "mimetype": "text/x-python",
   "name": "python",
   "nbconvert_exporter": "python",
   "pygments_lexer": "ipython3",
   "version": "3.8.3"
  }
 },
 "nbformat": 4,
 "nbformat_minor": 4
}
