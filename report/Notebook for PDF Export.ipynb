{
 "cells": [
  {
   "cell_type": "code",
   "execution_count": 16,
   "id": "6fd5d1a0-5377-4855-a8f4-c86b0ff78275",
   "metadata": {},
   "outputs": [
    {
     "name": "stdout",
     "output_type": "stream",
     "text": [
      "Converted ZZSC9020_Template_GroupG.md to LaTeX output.tex successfully!\n"
     ]
    },
    {
     "name": "stderr",
     "output_type": "stream",
     "text": [
      "[WARNING] Unusual conversion: to convert a .tex file to PDF, you get better results by using pdflatex (or lualatex or xelatex) directly, try `pdflatex output.tex` instead of `pandoc output.tex -o test_output_file.pdf`.\n"
     ]
    },
    {
     "name": "stdout",
     "output_type": "stream",
     "text": [
      "Converted output.tex to PDF test_output_file.pdf successfully!\n"
     ]
    }
   ],
   "source": [
    "import subprocess\n",
    "\n",
    "markdown_file = 'ZZSC9020_Template_GroupG.md'\n",
    "latex_file = 'output.tex'\n",
    "pdf_file = 'test_output_file.pdf'\n",
    "\n",
    "latex_command = f\"pandoc {markdown_file} --pdf-engine=xelatex --citeproc --toc --toc-depth=2 -s -o {latex_file}\"\n",
    "\n",
    "pdf_command = f\"pandoc {latex_file} --pdf-engine=xelatex -o {pdf_file}\"\n",
    "\n",
    "try:\n",
    "    subprocess.run(latex_command, shell=True, check=True)\n",
    "    print(f\"Converted {markdown_file} to LaTeX {latex_file} successfully!\")\n",
    "    subprocess.run(pdf_command, shell=True, check=True)\n",
    "    print(f\"Converted {latex_file} to PDF {pdf_file} successfully!\")\n",
    "except subprocess.CalledProcessError:\n",
    "    print(\"An error occurred while converting the file.\")\n",
    "\n",
    "\n",
    "\n"
   ]
  }
 ],
 "metadata": {
  "kernelspec": {
   "display_name": "Python 3 (ipykernel)",
   "language": "python",
   "name": "python3"
  },
  "language_info": {
   "codemirror_mode": {
    "name": "ipython",
    "version": 3
   },
   "file_extension": ".py",
   "mimetype": "text/x-python",
   "name": "python",
   "nbconvert_exporter": "python",
   "pygments_lexer": "ipython3",
   "version": "3.11.8"
  }
 },
 "nbformat": 4,
 "nbformat_minor": 5
}
