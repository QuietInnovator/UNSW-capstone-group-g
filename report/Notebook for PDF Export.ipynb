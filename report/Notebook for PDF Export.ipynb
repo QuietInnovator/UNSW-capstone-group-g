{
 "cells": [
  {
   "cell_type": "code",
   "execution_count": 8,
   "id": "6fd5d1a0-5377-4855-a8f4-c86b0ff78275",
   "metadata": {},
   "outputs": [
    {
     "name": "stdout",
     "output_type": "stream",
     "text": [
      "Converted ZZSC9020_Template_GroupG.md to LaTeX output.tex successfully!\n",
      "Converted output.tex to PDF test_output_file.pdf successfully!\n"
     ]
    }
   ],
   "source": [
    "import subprocess\n",
    "\n",
    "markdown_file = 'ZZSC9020_Template_GroupG.md'\n",
    "latex_file = 'output.tex'\n",
    "pdf_file = 'test_output_file.pdf'\n",
    "\n",
    "latex_command = f\"pandoc {markdown_file} --pdf-engine=xelatex --citeproc --toc --toc-depth=2 -s -o {latex_file}\"\n",
    "\n",
    "pdf_command = f\"pandoc {markdown_file} --pdf-engine=xelatex --citeproc --toc --toc-depth=2 -s -o {pdf_file}\"\n",
    "\n",
    "try:\n",
    "    subprocess.run(latex_command, shell=True, check=True)\n",
    "    print(f\"Converted {markdown_file} to LaTeX {latex_file} successfully!\")\n",
    "    subprocess.run(pdf_command, shell=True, check=True)\n",
    "    print(f\"Converted {latex_file} to PDF {pdf_file} successfully!\")\n",
    "except subprocess.CalledProcessError:\n",
    "    print(\"An error occurred while converting the file.\")\n",
    "\n",
    "\n",
    "\n"
   ]
  },
  {
   "cell_type": "code",
   "execution_count": 4,
   "id": "116e55f3-52e0-48b6-8ff4-a2bf99df6ae9",
   "metadata": {},
   "outputs": [
    {
     "name": "stdout",
     "output_type": "stream",
     "text": [
      "Converted ZZSC9020_Template_GroupG.md to PDF output.pdf successfully!\n"
     ]
    }
   ],
   "source": [
    "import subprocess\n",
    "\n",
    "markdown_file = 'ZZSC9020_Template_GroupG.md'\n",
    "pdf_file = 'output.pdf'\n",
    "\n",
    "# Direct conversion to PDF with controlled TOC and abstract\n",
    "command = f\"pandoc {markdown_file} --pdf-engine=xelatex --citeproc --toc --toc-depth=2 -V abstract-includes=true -s -o {pdf_file}\"\n",
    "\n",
    "try:\n",
    "    subprocess.run(command, shell=True, check=True)\n",
    "    print(f\"Converted {markdown_file} to PDF {pdf_file} successfully!\")\n",
    "except subprocess.CalledProcessError:\n",
    "    print(\"An error occurred while converting the file.\")\n"
   ]
  },
  {
   "cell_type": "code",
   "execution_count": 6,
   "id": "57d5f3fd-f94e-404f-8eec-ae0ec10c19f1",
   "metadata": {},
   "outputs": [
    {
     "name": "stdout",
     "output_type": "stream",
     "text": [
      "Converted ZZSC9020_Template_GroupG.md to LaTeX output.tex successfully!\n",
      "Converted output.tex to PDF test_output_file.pdf successfully!\n"
     ]
    }
   ],
   "source": [
    "import subprocess\n",
    "\n",
    "markdown_file = 'ZZSC9020_Template_GroupG.md'\n",
    "latex_file = 'output.tex'\n",
    "pdf_file = 'test_output_file.pdf'\n",
    "\n",
    "latex_command = f\"pandoc {markdown_file} --pdf-engine=xelatex --citeproc --toc --toc-depth=2 -s -o {latex_file}\"\n",
    "\n",
    "pdf_command = f\"pandoc {markdown_file} --pdf-engine=xelatex --citeproc --toc --toc-depth=2 -s -o {pdf_file} --listings\"\n",
    "\n",
    "\n",
    "try:\n",
    "    subprocess.run(latex_command, shell=True, check=True)\n",
    "    print(f\"Converted {markdown_file} to LaTeX {latex_file} successfully!\")\n",
    "    subprocess.run(pdf_command, shell=True, check=True)\n",
    "    print(f\"Converted {latex_file} to PDF {pdf_file} successfully!\")\n",
    "except subprocess.CalledProcessError:\n",
    "    print(\"An error occurred while converting the file.\")\n"
   ]
  },
  {
   "cell_type": "code",
   "execution_count": null,
   "id": "4c8a39a5-edee-4502-9dc8-d5bee0d3269e",
   "metadata": {},
   "outputs": [],
   "source": []
  }
 ],
 "metadata": {
  "kernelspec": {
   "display_name": "Python 3 (ipykernel)",
   "language": "python",
   "name": "python3"
  },
  "language_info": {
   "codemirror_mode": {
    "name": "ipython",
    "version": 3
   },
   "file_extension": ".py",
   "mimetype": "text/x-python",
   "name": "python",
   "nbconvert_exporter": "python",
   "pygments_lexer": "ipython3",
   "version": "3.11.8"
  }
 },
 "nbformat": 4,
 "nbformat_minor": 5
}
